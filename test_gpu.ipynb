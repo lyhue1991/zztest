{
  "nbformat": 4,
  "nbformat_minor": 0,
  "metadata": {
    "colab": {
      "name": "test_gpu.ipynb",
      "version": "0.3.2",
      "provenance": [],
      "include_colab_link": true
    },
    "kernelspec": {
      "name": "python3",
      "display_name": "Python 3"
    },
    "accelerator": "GPU"
  },
  "cells": [
    {
      "cell_type": "markdown",
      "metadata": {
        "id": "view-in-github",
        "colab_type": "text"
      },
      "source": [
        "<a href=\"https://colab.research.google.com/github/lyhue1991/zztest/blob/master/test_gpu.ipynb\" target=\"_parent\"><img src=\"https://colab.research.google.com/assets/colab-badge.svg\" alt=\"Open In Colab\"/></a>"
      ]
    },
    {
      "cell_type": "code",
      "metadata": {
        "id": "sMLbpzUWi4-t",
        "colab_type": "code",
        "outputId": "9afa6007-c188-44e2-d9a2-2ef7f569bd0e",
        "colab": {
          "base_uri": "https://localhost:8080/",
          "height": 960
        }
      },
      "source": [
        "# coding=utf-8\n",
        "from __future__ import print_function\n",
        "from __future__ import division\n",
        "\n",
        "__author__ = 'Python_Ai_Road'\n",
        "\n",
        "# ======================================================================\n",
        "# 〇，设置gpu使用量控制\n",
        "\n",
        "import os\n",
        "import tensorflow as tf\n",
        "from keras.backend.tensorflow_backend import set_session\n",
        "\n",
        "os.environ[\"CUDA_VISIBLE_DEVICES\"] = \"0\" #有多个GPU时可以指定只使用第几号GPU\n",
        "config = tf.ConfigProto()\n",
        "config.allow_soft_placement=True #允许动态放置张量和操作符\n",
        "config.gpu_options.per_process_gpu_memory_fraction = 0.4 #最多使用40%GPU内存\n",
        "config.gpu_options.allow_growth=True   #初始化时不全部占满GPU显存, 按需分配 \n",
        "sess = tf.Session(config = config)\n",
        "set_session(sess)\n",
        "\n",
        "\n",
        "# ======================================================================\n",
        "# 一，准备数据\n",
        "\n",
        "from keras.preprocessing.image import ImageDataGenerator\n",
        "\n",
        "train_dir =  'cifar2_datasets/train'\n",
        "test_dir = 'cifar2_datasets/test'\n",
        "\n",
        "# 对训练集数据设置数据增强\n",
        "train_datagen = ImageDataGenerator(\n",
        "            rescale = 1./255,\n",
        "            rotation_range=40,\n",
        "            width_shift_range=0.2,\n",
        "            height_shift_range=0.2,\n",
        "            shear_range=0.2,\n",
        "            zoom_range=0.2,\n",
        "            horizontal_flip=True,\n",
        "            fill_mode='nearest')\n",
        "\n",
        "# 对测试集数据无需使用数据增强\n",
        "test_datagen = ImageDataGenerator(rescale=1./255)\n",
        "\n",
        "train_generator = train_datagen.flow_from_directory(\n",
        "                    train_dir,\n",
        "                    target_size=(32, 32),\n",
        "                    batch_size=32,\n",
        "                    shuffle = True,\n",
        "                    class_mode='binary')\n",
        "\n",
        "test_generator = test_datagen.flow_from_directory(\n",
        "                    test_dir,\n",
        "                    target_size=(32, 32),\n",
        "                    batch_size=32,\n",
        "                    shuffle = False,\n",
        "                    class_mode='binary')\n",
        "\n",
        "# ======================================================================\n",
        "# 二，构建模型\n",
        "\n",
        "from keras import models,layers,optimizers\n",
        "from keras import backend as K\n",
        "\n",
        "K.clear_session()\n",
        "model = models.Sequential()\n",
        "model.add(layers.Flatten(input_shape = (32,32,3)))\n",
        "model.add(layers.Dense(1024, activation='relu'))\n",
        "model.add(layers.Dense(1024, activation='relu'))\n",
        "model.add(layers.Dense(1024, activation='relu'))\n",
        "model.add(layers.Dense(1, activation='sigmoid'))\n",
        "\n",
        "model.compile(loss='binary_crossentropy',\n",
        "            optimizer=optimizers.RMSprop(lr=1e-4),\n",
        "            metrics=['acc'])\n",
        "\n",
        "model.summary()\n",
        "\n",
        "# ======================================================================\n",
        "# 三，训练模型\n",
        "\n",
        "# 计算每轮次需要的步数 \n",
        "import numpy as np \n",
        "train_steps_per_epoch  = np.ceil(10000/32)\n",
        "test_steps_per_epoch  = np.ceil(2000/32)\n",
        "\n",
        "import time\n",
        "tic = time.time()\n",
        "# 使用内存友好的fit_generator方法进行训练\n",
        "history = model.fit_generator(\n",
        "        train_generator,\n",
        "        steps_per_epoch = train_steps_per_epoch,\n",
        "        epochs = 5,\n",
        "        validation_data= test_generator,\n",
        "        validation_steps=test_steps_per_epoch,\n",
        "        workers=6,\n",
        "        use_multiprocessing=True #linux上可使用多进程读取数据\n",
        "        )\n",
        "toc = time.time()\n",
        "\n",
        "print('\\nused time:',toc - tic,'\\n')\n",
        "\n",
        "\n",
        "# ======================================================================\n",
        "# 四，评估模型\n",
        "import pandas as pd \n",
        "import matplotlib.pyplot as plt\n",
        "#%matplotlib inline\n",
        "#%config InlineBackend.figure_format = 'png'\n",
        "\n",
        "dfhistory = pd.DataFrame(history.history)\n",
        "dfhistory.index = range(1,len(dfhistory) + 1)\n",
        "dfhistory.index.name = 'epoch'\n",
        "dfhistory.to_csv('hitory_metrics',sep = '\\t')\n",
        "\n",
        "\n",
        "acc = history.history['acc']\n",
        "val_acc = history.history['val_acc']\n",
        "epochs = range(1, len(acc) + 1)\n",
        "plt.plot(epochs, acc, 'bo', label='Training accuracy')\n",
        "plt.plot(epochs, val_acc, 'b', label='Validation accuracy')\n",
        "plt.title('Training and validation accuracy')\n",
        "plt.xlabel('Epochs')\n",
        "plt.ylabel('Accuracy')\n",
        "plt.legend()\n",
        "plt.show()\n",
        "\n",
        "# ======================================================================\n",
        "# 五，使用模型\n",
        "\n",
        "from sklearn.metrics import roc_auc_score\n",
        "\n",
        "test_datagen = ImageDataGenerator(rescale=1./255)\n",
        "\n",
        "# 注意，使用模型进行预测时要设置生成器shuffle = False\n",
        "test_generator = test_datagen.flow_from_directory(\n",
        "                 test_dir,\n",
        "                 target_size=(32, 32),\n",
        "                 batch_size=32,\n",
        "                 class_mode='binary',\n",
        "                 shuffle = False)\n",
        "\n",
        "# 计算auc\n",
        "y_pred = model.predict_generator(test_generator,steps = len(test_generator))\n",
        "y_pred = np.reshape(y_pred,(-1,))\n",
        "y_true = np.concatenate([test_generator[i][1] \n",
        "                         for i in range(len(test_generator))])\n",
        "auc = roc_auc_score(y_true,y_pred)\n",
        "\n",
        "print('test auc:', auc)\n",
        "\n",
        "# ======================================================================\n",
        "# 六，保存模型\n",
        "\n",
        "model.save('cifar2_model.h5')\n",
        "\n",
        "######\n",
        "#####\n",
        "####\n",
        "###\n",
        "##\n",
        "#\n"
      ],
      "execution_count": 7,
      "outputs": [
        {
          "output_type": "stream",
          "text": [
            "Found 10000 images belonging to 2 classes.\n",
            "Found 2000 images belonging to 2 classes.\n",
            "_________________________________________________________________\n",
            "Layer (type)                 Output Shape              Param #   \n",
            "=================================================================\n",
            "flatten_1 (Flatten)          (None, 3072)              0         \n",
            "_________________________________________________________________\n",
            "dense_1 (Dense)              (None, 1024)              3146752   \n",
            "_________________________________________________________________\n",
            "dense_2 (Dense)              (None, 1024)              1049600   \n",
            "_________________________________________________________________\n",
            "dense_3 (Dense)              (None, 1024)              1049600   \n",
            "_________________________________________________________________\n",
            "dense_4 (Dense)              (None, 1)                 1025      \n",
            "=================================================================\n",
            "Total params: 5,246,977\n",
            "Trainable params: 5,246,977\n",
            "Non-trainable params: 0\n",
            "_________________________________________________________________\n"
          ],
          "name": "stdout"
        },
        {
          "output_type": "stream",
          "text": [
            "/usr/local/lib/python3.6/dist-packages/keras/engine/training_generator.py:47: UserWarning: Using a generator with `use_multiprocessing=True` and multiple workers may duplicate your data. Please consider using the`keras.utils.Sequence class.\n",
            "  UserWarning('Using a generator with `use_multiprocessing=True`'\n"
          ],
          "name": "stderr"
        },
        {
          "output_type": "stream",
          "text": [
            "Epoch 1/5\n",
            "313/313 [==============================] - 11s 34ms/step - loss: 0.5382 - acc: 0.7307 - val_loss: 0.3808 - val_acc: 0.8700\n",
            "Epoch 2/5\n",
            "313/313 [==============================] - 10s 32ms/step - loss: 0.4685 - acc: 0.7755 - val_loss: 0.4154 - val_acc: 0.8135\n",
            "Epoch 3/5\n",
            "313/313 [==============================] - 10s 32ms/step - loss: 0.4707 - acc: 0.7718 - val_loss: 0.4723 - val_acc: 0.8031\n",
            "Epoch 4/5\n",
            "313/313 [==============================] - 11s 34ms/step - loss: 0.4513 - acc: 0.7967 - val_loss: 0.4059 - val_acc: 0.8199\n",
            "Epoch 5/5\n",
            "313/313 [==============================] - 10s 32ms/step - loss: 0.4528 - acc: 0.7880 - val_loss: 0.2051 - val_acc: 0.9430\n",
            "\n",
            "used time: 51.996280908584595 \n",
            "\n"
          ],
          "name": "stdout"
        },
        {
          "output_type": "display_data",
          "data": {
            "image/png": "[encoded data removed]",
            "text/plain": [
              "<Figure size 432x288 with 1 Axes>"
            ]
          },
          "metadata": {
            "tags": []
          }
        },
        {
          "output_type": "stream",
          "text": [
            "Found 2000 images belonging to 2 classes.\n",
            "test auc: 0.91235\n"
          ],
          "name": "stdout"
        }
      ]
    },
    {
      "cell_type": "code",
      "metadata": {
        "id": "8EUg1ycPIUyC",
        "colab_type": "code",
        "colab": {
          "base_uri": "https://localhost:8080/",
          "height": 53
        },
        "outputId": "d3609483-3bcf-431e-c24a-a891bb9f187c"
      },
      "source": [
        "import keras \n",
        "import tensorflow as tf\n",
        "\n",
        "\n",
        "(x_train,y_train),(x_test,y_test) = keras.datasets.boston_housing.load_data()"
      ],
      "execution_count": 4,
      "outputs": [
        {
          "output_type": "stream",
          "text": [
            "Downloading data from https://s3.amazonaws.com/keras-datasets/boston_housing.npz\n",
            "57344/57026 [==============================] - 0s 1us/step\n"
          ],
          "name": "stdout"
        }
      ]
    },
    {
      "cell_type": "code",
      "metadata": {
        "id": "odM6dFO5IUQZ",
        "colab_type": "code",
        "colab": {}
      },
      "source": [
        "import pandas as pd "
      ],
      "execution_count": 0,
      "outputs": []
    }
  ]
}