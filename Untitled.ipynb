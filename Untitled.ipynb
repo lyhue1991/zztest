{
  "cells": [
    {
      "metadata": {
        "ExecuteTime": {
          "start_time": "2018-12-25T04:41:03.398367Z",
          "end_time": "2018-12-25T04:41:05.502802Z"
        },
        "trusted": true
      },
      "cell_type": "code",
      "source": "import numpy as np \nimport pandas as pd",
      "execution_count": 1,
      "outputs": []
    },
    {
      "metadata": {
        "ExecuteTime": {
          "start_time": "2018-12-25T04:43:01.94578Z",
          "end_time": "2018-12-25T04:43:02.753879Z"
        },
        "trusted": true
      },
      "cell_type": "code",
      "source": "df = pd.read_csv('term_clust',sep = '\\t',header = None,names = ['term','clust_id'])",
      "execution_count": 2,
      "outputs": []
    },
    {
      "metadata": {
        "ExecuteTime": {
          "start_time": "2018-12-25T04:43:07.308858Z",
          "end_time": "2018-12-25T04:43:07.353175Z"
        },
        "trusted": true
      },
      "cell_type": "code",
      "source": "df.head()",
      "execution_count": 3,
      "outputs": [
        {
          "output_type": "execute_result",
          "execution_count": 3,
          "data": {
            "text/html": "<div>\n<table border=\"1\" class=\"dataframe\">\n  <thead>\n    <tr style=\"text-align: right;\">\n      <th></th>\n      <th>term</th>\n      <th>clust_id</th>\n    </tr>\n  </thead>\n  <tbody>\n    <tr>\n      <th>0</th>\n      <td>收购</td>\n      <td>112</td>\n    </tr>\n    <tr>\n      <th>1</th>\n      <td>收账</td>\n      <td>57</td>\n    </tr>\n    <tr>\n      <th>2</th>\n      <td>收货</td>\n      <td>97</td>\n    </tr>\n    <tr>\n      <th>3</th>\n      <td>收费</td>\n      <td>892</td>\n    </tr>\n    <tr>\n      <th>4</th>\n      <td>老唐</td>\n      <td>57</td>\n    </tr>\n  </tbody>\n</table>\n</div>",
            "text/plain": "  term  clust_id\n0   收购       112\n1   收账        57\n2   收货        97\n3   收费       892\n4   老唐        57"
          },
          "metadata": {}
        }
      ]
    },
    {
      "metadata": {
        "ExecuteTime": {
          "start_time": "2018-12-25T04:50:39.692787Z",
          "end_time": "2018-12-25T04:50:40.002538Z"
        },
        "trusted": true
      },
      "cell_type": "code",
      "source": "def terms_list(x):\n    return([t for t in x])\ndef terms_num(x):\n    return(len(x))\ndfpt = df.pivot_table(index = 'clust_id',aggfunc = {'term':[term_list,terms_num]})\n",
      "execution_count": 11,
      "outputs": []
    },
    {
      "metadata": {
        "ExecuteTime": {
          "start_time": "2018-12-25T04:51:45.533451Z",
          "end_time": "2018-12-25T04:51:45.5382Z"
        },
        "trusted": true
      },
      "cell_type": "code",
      "source": "dfpt.columns = ['term_list','terms_num']",
      "execution_count": 16,
      "outputs": []
    },
    {
      "metadata": {
        "ExecuteTime": {
          "start_time": "2018-12-25T04:52:55.999938Z",
          "end_time": "2018-12-25T04:52:56.00756Z"
        },
        "trusted": true
      },
      "cell_type": "code",
      "source": "dfpt['clust_name'] = ['clust_'+str(i) for i  in range(1,len(dfpt)+1) ]",
      "execution_count": 18,
      "outputs": []
    },
    {
      "metadata": {
        "ExecuteTime": {
          "start_time": "2018-12-25T04:57:32.679597Z",
          "end_time": "2018-12-25T04:57:35.095636Z"
        },
        "trusted": true
      },
      "cell_type": "code",
      "source": "dflast = dfpt[['clust_name','terms_num','term_list']]\ndflast.to_excel('term_clust_merge.xlsx',index = False)",
      "execution_count": 26,
      "outputs": []
    },
    {
      "metadata": {
        "trusted": true
      },
      "cell_type": "code",
      "source": "",
      "execution_count": null,
      "outputs": []
    }
  ],
  "metadata": {
    "kernelspec": {
      "name": "python3",
      "display_name": "Python 3",
      "language": "python"
    },
    "language_info": {
      "mimetype": "text/x-python",
      "nbconvert_exporter": "python",
      "name": "python",
      "pygments_lexer": "ipython3",
      "version": "3.5.4",
      "file_extension": ".py",
      "codemirror_mode": {
        "version": 3,
        "name": "ipython"
      }
    }
  },
  "nbformat": 4,
  "nbformat_minor": 1
}