{
  "cells": [
    {
      "cell_type": "code",
      "execution_count": 3,
      "metadata": {
        "ExecuteTime": {
          "end_time": "2018-12-21T13:36:06.529Z",
          "start_time": "2018-12-21T13:36:05.338Z"
        }
      },
      "outputs": [
        {
          "name": "stdout",
          "output_type": "stream",
          "text": [
            "running sdist\n",
            "running egg_info\n",
            "writing requirements to tianjikit.egg-info\\requires.txt\n",
            "writing tianjikit.egg-info\\PKG-INFO\n",
            "writing top-level names to tianjikit.egg-info\\top_level.txt\n",
            "writing dependency_links to tianjikit.egg-info\\dependency_links.txt\n",
            "reading manifest file 'tianjikit.egg-info\\SOURCES.txt'\n",
            "reading manifest template 'MANIFEST.in'\n",
            "writing manifest file 'tianjikit.egg-info\\SOURCES.txt'\n",
            "running check\n",
            "creating tianjikit-3.0\n",
            "creating tianjikit-3.0\\.ipynb_checkpoints\n",
            "creating tianjikit-3.0\\tianjikit.egg-info\n",
            "copying files to tianjikit-3.0...\n",
            "copying MANIFEST.in -> tianjikit-3.0\n",
            "copying README -> tianjikit-3.0\n",
            "copying aagit.ipynb -> tianjikit-3.0\n",
            "copying readme.ipynb -> tianjikit-3.0\n",
            "copying readme.png -> tianjikit-3.0\n",
            "copying setup.py -> tianjikit-3.0\n",
            "copying .\\.ipynb_checkpoints\\aagit-checkpoint.ipynb -> tianjikit-3.0\\.\\.ipynb_checkpoints\n",
            "copying .\\.ipynb_checkpoints\\readme-checkpoint.ipynb -> tianjikit-3.0\\.\\.ipynb_checkpoints\n",
            "copying tianjikit.egg-info\\PKG-INFO -> tianjikit-3.0\\tianjikit.egg-info\n",
            "copying tianjikit.egg-info\\SOURCES.txt -> tianjikit-3.0\\tianjikit.egg-info\n",
            "copying tianjikit.egg-info\\dependency_links.txt -> tianjikit-3.0\\tianjikit.egg-info\n",
            "copying tianjikit.egg-info\\not-zip-safe -> tianjikit-3.0\\tianjikit.egg-info\n",
            "copying tianjikit.egg-info\\requires.txt -> tianjikit-3.0\\tianjikit.egg-info\n",
            "copying tianjikit.egg-info\\top_level.txt -> tianjikit-3.0\\tianjikit.egg-info\n",
            "Writing tianjikit-3.0\\setup.cfg\n",
            "Creating tar archive\n",
            "removing 'tianjikit-3.0' (and everything under it)\n"
          ]
        }
      ],
      "source": [
        "# 代码打包\n",
        "%run setup.py sdist"
      ]
    },
    {
      "cell_type": "code",
      "execution_count": 4,
      "metadata": {
        "ExecuteTime": {
          "end_time": "2018-12-21T13:36:11.229Z",
          "start_time": "2018-12-21T13:36:09.325Z"
        }
      },
      "outputs": [
        {
          "name": "stdout",
          "output_type": "stream",
          "text": [
            "running develop\n",
            "running egg_info\n",
            "writing requirements to tianjikit.egg-info\\requires.txt\n",
            "writing tianjikit.egg-info\\PKG-INFO\n",
            "writing top-level names to tianjikit.egg-info\\top_level.txt\n",
            "writing dependency_links to tianjikit.egg-info\\dependency_links.txt\n",
            "reading manifest file 'tianjikit.egg-info\\SOURCES.txt'\n",
            "reading manifest template 'MANIFEST.in'\n",
            "writing manifest file 'tianjikit.egg-info\\SOURCES.txt'\n",
            "running build_ext\n",
            "Creating c:\\programefiles\\anaconda\\lib\\site-packages\\tianjikit.egg-link (link to .)\n",
            "tianjikit 3.0 is already the active version in easy-install.pth\n",
            "\n",
            "Installed c:\\users\\liangyun\\onedrive\\pythonfiles\\all_my_functions\\tianjikit\n",
            "Processing dependencies for tianjikit==3.0\n",
            "Searching for xgboost==0.81\n",
            "Best match: xgboost 0.81\n",
            "Adding xgboost 0.81 to easy-install.pth file\n",
            "\n",
            "Using c:\\programefiles\\anaconda\\lib\\site-packages\n",
            "Searching for scipy==1.1.0\n",
            "Best match: scipy 1.1.0\n",
            "Adding scipy 1.1.0 to easy-install.pth file\n",
            "\n",
            "Using c:\\programefiles\\anaconda\\lib\\site-packages\n",
            "Searching for numpy==1.15.1\n",
            "Best match: numpy 1.15.1\n",
            "Adding numpy 1.15.1 to easy-install.pth file\n",
            "\n",
            "Using c:\\programefiles\\anaconda\\lib\\site-packages\n",
            "Finished processing dependencies for tianjikit==3.0\n"
          ]
        }
      ],
      "source": [
        "# 安装模块\n",
        "%run setup.py develop"
      ]
    },
    {
      "cell_type": "code",
      "execution_count": null,
      "metadata": {
        "ExecuteTime": {
          "end_time": "2018-11-29T01:54:53.006Z",
          "start_time": "2018-11-29T01:54:52.182Z"
        }
      },
      "outputs": [],
      "source": [
        "!git config --global user.name \"lyhue1991\"\n",
        "!git config --global user.email \"lyhue1991@163.com\"\n",
        "\n",
        "# 出现一些类似 warning: LF will be replaced by CRLF in <file-name>. 可启用如下设置。\n",
        "!git config --global core.autocrlf false\n",
        "\n",
        "# 配置打印历史commit的快捷命令\n",
        "!git config --global alias.lg \"log --oneline --graph --all\""
      ]
    },
    {
      "cell_type": "code",
      "execution_count": null,
      "metadata": {
        "ExecuteTime": {
          "end_time": "2018-11-29T01:54:55.571Z",
          "start_time": "2018-11-29T01:54:55.326Z"
        }
      },
      "outputs": [],
      "source": [
        "!git init"
      ]
    },
    {
      "cell_type": "code",
      "execution_count": 5,
      "metadata": {
        "ExecuteTime": {
          "end_time": "2018-12-21T13:36:15.16Z",
          "start_time": "2018-12-21T13:36:14.902Z"
        }
      },
      "outputs": [],
      "source": [
        "!git add -A"
      ]
    },
    {
      "cell_type": "code",
      "execution_count": 6,
      "metadata": {
        "ExecuteTime": {
          "end_time": "2018-12-21T13:36:24.138Z",
          "start_time": "2018-12-21T13:36:23.872Z"
        }
      },
      "outputs": [
        {
          "name": "stdout",
          "output_type": "stream",
          "text": [
            "[master e138ca0] modify runtunning.py\n",
            " 10 files changed, 3541 insertions(+), 174 deletions(-)\n",
            " create mode 100644 __init__.pyc\n",
            " rewrite dist/tianjikit-3.0.tar.gz (97%)\n",
            " create mode 100644 prettytable.pyc\n",
            " create mode 100644 tunexgboost.py\n",
            " create mode 100644 tunning.pyc\n"
          ]
        }
      ],
      "source": [
        "!git commit -m\"modify runtunning.py\""
      ]
    },
    {
      "cell_type": "code",
      "execution_count": null,
      "metadata": {
        "ExecuteTime": {
          "end_time": "2018-10-16T05:07:35.333Z",
          "start_time": "2018-10-16T05:07:35.065Z"
        }
      },
      "outputs": [],
      "source": [
        "#!git remote rm origin"
      ]
    },
    {
      "cell_type": "code",
      "execution_count": null,
      "metadata": {
        "ExecuteTime": {
          "end_time": "2018-10-16T05:07:38.651Z",
          "start_time": "2018-10-16T05:07:38.236Z"
        }
      },
      "outputs": [],
      "source": [
        "#!git remote add origin https://github.com/lyhue1991/tianjikit.git"
      ]
    },
    {
      "cell_type": "code",
      "execution_count": null,
      "metadata": {
        "ExecuteTime": {
          "end_time": "2018-12-21T06:27:01.879Z",
          "start_time": "2018-12-21T06:26:59.455Z"
        }
      },
      "outputs": [],
      "source": [
        "!git fetch"
      ]
    },
    {
      "cell_type": "code",
      "execution_count": null,
      "metadata": {
        "ExecuteTime": {
          "end_time": "2018-12-12T04:40:12.143Z",
          "start_time": "2018-12-12T04:40:08.535Z"
        }
      },
      "outputs": [],
      "source": [
        "!git rebase origin/master"
      ]
    },
    {
      "cell_type": "code",
      "execution_count": 7,
      "metadata": {
        "ExecuteTime": {
          "end_time": "2018-12-21T13:37:33.55Z",
          "start_time": "2018-12-21T13:36:36.405Z"
        }
      },
      "outputs": [
        {
          "name": "stderr",
          "output_type": "stream",
          "text": [
            "To https://github.com/lyhue1991/tianjikit\n",
            "   d0c4a2d..e138ca0  master -> master\n"
          ]
        }
      ],
      "source": [
        "!git push  origin master"
      ]
    }
  ],
  "metadata": {
    "kernelspec": {
      "display_name": "Python 2",
      "language": "python",
      "name": "python2"
    },
    "language_info": {
      "codemirror_mode": {
        "name": "ipython",
        "version": 2
      },
      "file_extension": ".py",
      "mimetype": "text/x-python",
      "name": "python",
      "nbconvert_exporter": "python",
      "pygments_lexer": "ipython2",
      "version": "2.7.15"
    }
  },
  "nbformat": 4,
  "nbformat_minor": 2
}