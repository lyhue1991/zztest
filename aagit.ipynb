{
  "cells": [
    {
      "metadata": {
        "ExecuteTime": {
          "start_time": "2018-12-25T07:31:14.379421Z",
          "end_time": "2018-12-25T07:31:14.942133Z"
        },
        "trusted": true
      },
      "cell_type": "code",
      "source": "!git config --global user.name \"lyhue1991\"\n!git config --global user.email \"lyhue1991@163.com\"\n\n# 出现一些类似 warning: LF will be replaced by CRLF in <file-name>. 可启用如下设置。\n!git config --global core.autocrlf false\n\n# 配置打印历史commit的快捷命令\n!git config --global alias.lg \"log --oneline --graph --all\"",
      "execution_count": 2,
      "outputs": []
    },
    {
      "metadata": {
        "ExecuteTime": {
          "start_time": "2018-12-25T07:31:16.349164Z",
          "end_time": "2018-12-25T07:31:21.29701Z"
        },
        "trusted": true
      },
      "cell_type": "code",
      "source": "!git init",
      "execution_count": 3,
      "outputs": [
        {
          "output_type": "stream",
          "text": "Initialized empty Git repository in /home/nbuser/library/.git/\r\n",
          "name": "stdout"
        }
      ]
    },
    {
      "metadata": {
        "ExecuteTime": {
          "start_time": "2018-12-25T07:31:26.293261Z",
          "end_time": "2018-12-25T07:31:33.195517Z"
        },
        "trusted": true
      },
      "cell_type": "code",
      "source": "!git add -A",
      "execution_count": 4,
      "outputs": []
    },
    {
      "metadata": {
        "ExecuteTime": {
          "start_time": "2018-12-25T07:31:45.186603Z",
          "end_time": "2018-12-25T07:31:49.372577Z"
        },
        "trusted": true
      },
      "cell_type": "code",
      "source": "!git commit -m\"test\"",
      "execution_count": 5,
      "outputs": [
        {
          "output_type": "stream",
          "text": "[master (root-commit) 23d7108] test\n 6 files changed, 74081 insertions(+)\n create mode 100644 README.md\n create mode 100644 Untitled.ipynb\n create mode 100644 aagit.ipynb\n create mode 100644 term_clust\n create mode 100644 term_clust_info.xlsx\n create mode 100644 term_clust_merge.xlsx\n",
          "name": "stdout"
        }
      ]
    },
    {
      "metadata": {
        "ExecuteTime": {
          "end_time": "2018-10-16T05:07:35.333Z",
          "start_time": "2018-10-16T05:07:35.065Z"
        },
        "trusted": false
      },
      "cell_type": "code",
      "source": "#!git remote rm origin",
      "execution_count": null,
      "outputs": []
    },
    {
      "metadata": {
        "ExecuteTime": {
          "start_time": "2018-12-25T07:33:03.569812Z",
          "end_time": "2018-12-25T07:33:05.011289Z"
        },
        "trusted": true
      },
      "cell_type": "code",
      "source": "!git remote add origin https://github.com/lyhue1991/zztest.git",
      "execution_count": 6,
      "outputs": []
    },
    {
      "metadata": {
        "ExecuteTime": {
          "end_time": "2018-12-21T06:27:01.879Z",
          "start_time": "2018-12-21T06:26:59.455Z"
        },
        "trusted": false
      },
      "cell_type": "code",
      "source": "!git fetch",
      "execution_count": null,
      "outputs": []
    },
    {
      "metadata": {
        "ExecuteTime": {
          "end_time": "2018-12-12T04:40:12.143Z",
          "start_time": "2018-12-12T04:40:08.535Z"
        },
        "trusted": false
      },
      "cell_type": "code",
      "source": "!git rebase origin/master",
      "execution_count": null,
      "outputs": []
    },
    {
      "metadata": {
        "ExecuteTime": {
          "end_time": "2018-12-21T13:37:33.55Z",
          "start_time": "2018-12-21T13:36:36.405Z"
        },
        "trusted": false
      },
      "cell_type": "code",
      "source": "!git push  origin master",
      "execution_count": 7,
      "outputs": [
        {
          "name": "stderr",
          "output_type": "stream",
          "text": "To https://github.com/lyhue1991/tianjikit\n   d0c4a2d..e138ca0  master -> master\n"
        }
      ]
    }
  ],
  "metadata": {
    "kernelspec": {
      "name": "python2",
      "display_name": "Python 2",
      "language": "python"
    },
    "language_info": {
      "mimetype": "text/x-python",
      "nbconvert_exporter": "python",
      "name": "python",
      "pygments_lexer": "ipython2",
      "version": "2.7.15",
      "file_extension": ".py",
      "codemirror_mode": {
        "version": 2,
        "name": "ipython"
      }
    }
  },
  "nbformat": 4,
  "nbformat_minor": 2
}